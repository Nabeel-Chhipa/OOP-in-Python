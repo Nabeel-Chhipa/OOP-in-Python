{
 "cells": [
  {
   "cell_type": "code",
   "execution_count": 12,
   "id": "8eaaacd6-cff1-4acf-beda-9a62c8828043",
   "metadata": {},
   "outputs": [
    {
     "name": "stdout",
     "output_type": "stream",
     "text": [
      "tommy is barking\n"
     ]
    }
   ],
   "source": [
    "class Animal:\n",
    "    def __init__(self, name):\n",
    "        self.name = name\n",
    "\n",
    "    def speak(self):\n",
    "        print(f\"{self.name} is making noice\")\n",
    "\n",
    "class Dog(Animal):\n",
    "    def speak(self):\n",
    "        print(f\"{self.name} is barking\")\n",
    "\n",
    "dog = Dog('tommy')\n",
    "dog.speak()"
   ]
  },
  {
   "cell_type": "code",
   "execution_count": 21,
   "id": "0cfdb884-9926-46ca-b4da-1b12cda2098f",
   "metadata": {},
   "outputs": [
    {
     "name": "stdout",
     "output_type": "stream",
     "text": [
      "Honda car is starting\n",
      "Kawasaki Bike is starting\n"
     ]
    }
   ],
   "source": [
    "class Vehicle:\n",
    "    def __init__(self, name):\n",
    "        self.name = name\n",
    "\n",
    "    def start(self):\n",
    "        print(f\"{self.name} is starting\")\n",
    "\n",
    "class Car(Vehicle):\n",
    "    def start(self):\n",
    "        print(f\"{self.name} car is starting\")\n",
    "\n",
    "class Bike(Vehicle):\n",
    "    def start(self):\n",
    "        print(f\"{self.name} Bike is starting\")\n",
    "\n",
    "car = Car('Honda')\n",
    "bike = Bike('Kawasaki')\n",
    "car.start()\n",
    "bike.start()"
   ]
  }
 ],
 "metadata": {
  "kernelspec": {
   "display_name": "Python 3 (ipykernel)",
   "language": "python",
   "name": "python3"
  },
  "language_info": {
   "codemirror_mode": {
    "name": "ipython",
    "version": 3
   },
   "file_extension": ".py",
   "mimetype": "text/x-python",
   "name": "python",
   "nbconvert_exporter": "python",
   "pygments_lexer": "ipython3",
   "version": "3.12.7"
  }
 },
 "nbformat": 4,
 "nbformat_minor": 5
}
