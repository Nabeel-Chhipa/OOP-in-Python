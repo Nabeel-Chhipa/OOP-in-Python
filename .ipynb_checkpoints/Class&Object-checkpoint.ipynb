{
 "cells": [
  {
   "cell_type": "code",
   "execution_count": 3,
   "id": "28ca7933-0a13-4f28-87e6-d57d9cd65bba",
   "metadata": {},
   "outputs": [
    {
     "name": "stdout",
     "output_type": "stream",
     "text": [
      "Toyota, white car is start\n",
      "Honda, black car is start\n"
     ]
    }
   ],
   "source": [
    "class Car:\n",
    "    def __init__(self, brand, color):\n",
    "        self.brand = brand\n",
    "        self.color = color\n",
    "\n",
    "    def start(self):\n",
    "        print(f\"{self.brand}, {self.color} car is start\")\n",
    "\n",
    "car1 = Car('Toyota', 'white')\n",
    "car2 = Car('Honda', 'black')\n",
    "car1.start()\n",
    "car2.start()"
   ]
  },
  {
   "cell_type": "code",
   "execution_count": 6,
   "id": "6abd85be-6715-4a90-b5c3-b7b1304a6a6f",
   "metadata": {},
   "outputs": [
    {
     "name": "stdout",
     "output_type": "stream",
     "text": [
      "Muhammad Nabeel's department is IT and Eployee id is 1\n",
      "Muhammad Usama's department is Makreting and Eployee id is 2\n"
     ]
    }
   ],
   "source": [
    "class Employee:\n",
    "    def __init__(self, emp_id, name, department):\n",
    "        self.emp_id = emp_id\n",
    "        self.name = name\n",
    "        self.department = department\n",
    "        \n",
    "    def get_detail(self):\n",
    "        print(f\"{self.name}'s department is {self.department} and Eployee id is {self.emp_id}\")\n",
    "\n",
    "emp1 = Employee(1, 'Muhammad Nabeel', 'IT')\n",
    "emp2 = Employee(2, 'Muhammad Usama', 'Makreting')\n",
    "emp1.get_detail()\n",
    "emp2.get_detail()"
   ]
  }
 ],
 "metadata": {
  "kernelspec": {
   "display_name": "Python 3 (ipykernel)",
   "language": "python",
   "name": "python3"
  },
  "language_info": {
   "codemirror_mode": {
    "name": "ipython",
    "version": 3
   },
   "file_extension": ".py",
   "mimetype": "text/x-python",
   "name": "python",
   "nbconvert_exporter": "python",
   "pygments_lexer": "ipython3",
   "version": "3.12.7"
  }
 },
 "nbformat": 4,
 "nbformat_minor": 5
}
