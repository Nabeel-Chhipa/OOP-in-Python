{
 "cells": [
  {
   "cell_type": "code",
   "execution_count": 7,
   "id": "c32fd70e-ebc3-4506-bd9e-007c21d50498",
   "metadata": {},
   "outputs": [
    {
     "name": "stdout",
     "output_type": "stream",
     "text": [
      "insuffient balance\n",
      "Balance: 3000\n"
     ]
    }
   ],
   "source": [
    "class BankAccount:\n",
    "    def __init__(self, balance):\n",
    "        self.__balance = balance\n",
    "\n",
    "    def deposit(self, amount):\n",
    "        self.__balance += amount\n",
    "\n",
    "    def withdraw(self, amount):\n",
    "        if amount <= self.__balance:\n",
    "            self.__balance -= amount\n",
    "        else:\n",
    "            print(f\"insuffient balance\")\n",
    "    \n",
    "    def get_balance(self):\n",
    "        print(f\"Balance: {self.__balance}\")\n",
    "\n",
    "# data = BankAccount(5000)\n",
    "data.withdraw(6000)\n",
    "data.get_balance()"
   ]
  },
  {
   "cell_type": "code",
   "execution_count": 13,
   "id": "98da7dc8-c78c-4ca7-b17e-dae8c2037be4",
   "metadata": {},
   "outputs": [
    {
     "name": "stdout",
     "output_type": "stream",
     "text": [
      "grade: 98\n"
     ]
    }
   ],
   "source": [
    "class Student:\n",
    "    def __init__(self, name, grade):\n",
    "        self.name = name\n",
    "        self.__grade = grade\n",
    "\n",
    "    def get_grade(self):\n",
    "        print(f\"grade: {self.__grade}\")\n",
    "\n",
    "    def set_grade(self, grade):\n",
    "        if 0 <= grade <= 100:\n",
    "            self.__grade = grade\n",
    "        else:\n",
    "            print(f\"invalid grade\")\n",
    "\n",
    "std = Student('Nabeel', 98)\n",
    "std.get_grade()"
   ]
  }
 ],
 "metadata": {
  "kernelspec": {
   "display_name": "Python 3 (ipykernel)",
   "language": "python",
   "name": "python3"
  },
  "language_info": {
   "codemirror_mode": {
    "name": "ipython",
    "version": 3
   },
   "file_extension": ".py",
   "mimetype": "text/x-python",
   "name": "python",
   "nbconvert_exporter": "python",
   "pygments_lexer": "ipython3",
   "version": "3.12.7"
  }
 },
 "nbformat": 4,
 "nbformat_minor": 5
}
